{
 "cells": [
  {
   "cell_type": "markdown",
   "metadata": {},
   "source": [
    "# In-Browser Style Transfer\n",
    "\n",
    "summary of style transfer literature\n",
    "\n",
    "in browser:\n",
    "- Deep Art https://deepart.io/\n",
    "- Algorithmia https://demos.algorithmia.com/deep-style/\n",
    "- Fast Neural Style https://tenso.rs/demos/fast-neural-style/\n",
    "\n",
    "iOS / android: \n",
    "- Prisma https://prisma-ai.com/"
   ]
  },
  {
   "cell_type": "code",
   "execution_count": null,
   "metadata": {},
   "outputs": [],
   "source": []
  }
 ],
 "metadata": {
  "kernelspec": {
   "display_name": "Python 3",
   "language": "python",
   "name": "python3"
  },
  "language_info": {
   "codemirror_mode": {
    "name": "ipython",
    "version": 3
   },
   "file_extension": ".py",
   "mimetype": "text/x-python",
   "name": "python",
   "nbconvert_exporter": "python",
   "pygments_lexer": "ipython3",
   "version": "3.6.8"
  }
 },
 "nbformat": 4,
 "nbformat_minor": 2
}
